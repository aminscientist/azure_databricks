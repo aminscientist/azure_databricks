{
 "cells": [
  {
   "cell_type": "code",
   "execution_count": 0,
   "metadata": {
    "application/vnd.databricks.v1+cell": {
     "cellMetadata": {
      "byteLimit": 2048000,
      "rowLimit": 10000
     },
     "inputWidgets": {},
     "nuid": "75102fd6-90d4-44a0-9196-3355ba75a5e8",
     "showTitle": false,
     "title": ""
    },
    "id": "DMjYPGtNBMMx"
   },
   "outputs": [],
   "source": [
    "import pandas as pd\n",
    "import random\n",
    "from datetime import datetime, timedelta\n",
    "\n",
    "#Connection configuration\n",
    "spark.conf.set(\n",
    "\"fs.azure.account.key.aminbenstorage.blob.core.windows.net\", \"+6pERcvu8lJiDee3AMSByWKJMc3bYKLCeo9/r4d9hIcz0YyNoDpKTO4muOdjKqwWxlOwEd3dGWru+ASth3iE9w==\"\n",
    ")\n",
    "\n",
    "# Définissez les noms des mois\n",
    "mois = [\"janvier\", \"février\", \"mars\", \"avril\", \"mai\"]\n",
    "\n",
    "for m in mois:\n",
    "    # Generate data for the current month\n",
    "    start_date = datetime(2023, mois.index(m) + 1, 1)\n",
    "    if mois.index(m) == 3:  # Avril a 30 jours\n",
    "        end_date = datetime(2023, mois.index(m) + 1, 30)\n",
    "    elif mois.index(m) == 1:  # Février a 28 jours\n",
    "        end_date = datetime(2023, mois.index(m) + 1, 28)\n",
    "    else:\n",
    "        end_date = datetime(2023, mois.index(m) + 1, 31)\n",
    "\n",
    "    date_generated = [start_date + timedelta(days=x) for x in range(0, (end_date - start_date).days)]\n",
    "\n",
    "    # Define transportation-related data\n",
    "    transport_types = [\"Bus\", \"Train\", \"Tram\", \"Metro\"]\n",
    "    routes = [\"Route_\" + str(i) for i in range(1, 11)]\n",
    "    stations = [\"Station_\" + str(i) for i in range(1, 21)]\n",
    "\n",
    "    # Randomly select 5 days as extreme weather days\n",
    "    extreme_weather_days = random.sample(date_generated, 5)\n",
    "\n",
    "    data = []\n",
    "\n",
    "    for date in date_generated:\n",
    "        for _ in range(32):  # 32 records per day to get a total of 992 records for the current month\n",
    "            transport = random.choice(transport_types)\n",
    "            route = random.choice(routes)\n",
    "\n",
    "            # Normal operating hours\n",
    "            departure_hour = random.randint(5, 22)\n",
    "            departure_minute = random.randint(0, 59)\n",
    "\n",
    "            # Introducing Unusual Operating Hours for buses\n",
    "            if transport == \"Bus\" and random.random() < 0.05:  # 5% chance\n",
    "                departure_hour = 3\n",
    "\n",
    "            departure_time = f\"{departure_hour:02}:{departure_minute:02}\"\n",
    "\n",
    "            # Normal duration\n",
    "            duration = random.randint(10, 120)\n",
    "\n",
    "            # Introducing Short Turnarounds\n",
    "            if random.random() < 0.05:  # 5% chance\n",
    "                duration = random.randint(1, 5)\n",
    "\n",
    "            # General delay\n",
    "            delay = random.randint(0, 15)\n",
    "\n",
    "            # Weather Impact\n",
    "            if date in extreme_weather_days:\n",
    "                # Increase delay by 10 to 60 minutes\n",
    "                delay += random.randint(10, 60)\n",
    "\n",
    "                # 10% chance to change the route\n",
    "                if random.random() < 0.10:\n",
    "                    route = random.choice(routes)\n",
    "\n",
    "            total_minutes = departure_minute + duration + delay\n",
    "            arrival_hour = departure_hour + total_minutes // 60\n",
    "            arrival_minute = total_minutes % 60\n",
    "            arrival_time = f\"{arrival_hour:02}:{arrival_minute:02}\"\n",
    "\n",
    "            passengers = random.randint(1, 100)\n",
    "            departure_station = random.choice(stations)\n",
    "            arrival_station = random.choice(stations)\n",
    "\n",
    "            data.append([date, transport, route, departure_time, arrival_time, passengers, departure_station, arrival_station, delay])\n",
    "\n",
    "    df = pd.DataFrame(data, columns=[\"Date\", \"TransportType\", \"Route\", \"DepartureTime\", \"ArrivalTime\", \"Passengers\", \"DepartureStation\", \"ArrivalStation\", \"Delay\"])\n",
    "\n",
    "    # Modifiez le chemin de destination du fichier CSV pour le mois actuel\n",
    "    destination_path = f\"wasbs://data@aminbenstorage.blob.core.windows.net/public_transport_data/raw/{m.capitalize()}\"\n",
    "\n",
    "    # Écrivez les données dans un fichier CSV\n",
    "    spark_df = spark.createDataFrame(df)\n",
    "    spark_df.coalesce(1).write.format(\"com.databricks.spark.csv\").option(\"header\", \"true\").save(destination_path)"
   ]
  },
  {
   "cell_type": "code",
   "execution_count": 0,
   "metadata": {
    "application/vnd.databricks.v1+cell": {
     "cellMetadata": {},
     "inputWidgets": {},
     "nuid": "6ac51858-5a0f-4893-a638-8d8df64cbd70",
     "showTitle": false,
     "title": ""
    }
   },
   "outputs": [],
   "source": []
  }
 ],
 "metadata": {
  "application/vnd.databricks.v1+notebook": {
   "dashboards": [],
   "language": "python",
   "notebookMetadata": {
    "pythonIndentUnit": 4
   },
   "notebookName": "public_transport_data_generated",
   "widgets": {}
  },
  "colab": {
   "authorship_tag": "ABX9TyNEcAPisy+UgH2pdAMa2tgd",
   "provenance": []
  },
  "kernelspec": {
   "display_name": "Python 3",
   "name": "python3"
  },
  "language_info": {
   "name": "python"
  }
 },
 "nbformat": 4,
 "nbformat_minor": 0
}
